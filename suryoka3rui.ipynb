{
 "cells": [
  {
   "cell_type": "code",
   "execution_count": 1,
   "metadata": {
    "collapsed": false
   },
   "outputs": [],
   "source": [
    "# coding: UTF-8\n",
    "#! /usr/bin/env python\n",
    "from numpy import *\n",
    "from matplotlib.font_manager import FontProperties\n",
    "from matplotlib.pyplot import figure, show\n",
    "import matplotlib.pyplot as plt\n",
    "import csv\n",
    "import sys\n",
    "%matplotlib inline\n",
    "import matplotlib"
   ]
  },
  {
   "cell_type": "markdown",
   "metadata": {},
   "source": [
    "[origin](https://gist.github.com/northface/4577328#file-data-txt)"
   ]
  },
  {
   "cell_type": "code",
   "execution_count": 2,
   "metadata": {
    "collapsed": false
   },
   "outputs": [],
   "source": [
    "csvfile = open('data.txt')\n",
    "dlist = []\n",
    "slist = []\n",
    "tmp = []\n",
    "hlist = []\n",
    "if csvfile != None:\n",
    "    n = 0\n",
    "    for row in csv.reader(csvfile):\n",
    "        for col in row:\n",
    "            Lt = col.strip().split('\\t')\n",
    "            if n == 0:\n",
    "                tmp = Lt\n",
    "                hlist = tmp[1:]\n",
    "            else:\n",
    "                cols = Lt\n",
    "                slist.append(cols[0])\n",
    "                dlist.append([float(str) for str in cols[1:]])\n",
    "            n += 1\n",
    "csvfile.close()"
   ]
  },
  {
   "cell_type": "code",
   "execution_count": 3,
   "metadata": {
    "collapsed": false
   },
   "outputs": [
    {
     "name": "stdout",
     "output_type": "stream",
     "text": [
      "--分析対象となるデータ行列:R--\n",
      "[[ 0.  0.  1.  1.  1.  0.  0.]\n",
      " [ 1.  1.  0.  1.  0.  1.  0.]\n",
      " [ 1.  1.  0.  0.  0.  0.  1.]\n",
      " [ 1.  0.  0.  1.  0.  0.  1.]\n",
      " [ 0.  1.  0.  0.  0.  0.  1.]]\n"
     ]
    }
   ],
   "source": [
    "HN = vstack(hlist)\n",
    "SN = vstack(slist)\n",
    "R = vstack(dlist)\n",
    "print('--分析対象となるデータ行列:R--')\n",
    "print(R)\n",
    "\n",
    "R_num_row = len(R)\n",
    "R_num_col = size(R[0])\n",
    "S = [0 for i in range(R_num_row)]\n",
    "C = [0 for i in range(R_num_col)]"
   ]
  },
  {
   "cell_type": "code",
   "execution_count": 4,
   "metadata": {
    "collapsed": false
   },
   "outputs": [
    {
     "name": "stdout",
     "output_type": "stream",
     "text": [
      "--カテゴリごとの点数が対角にある行列の逆行列:CT--\n",
      "[[ 0.33333333  0.          0.          0.          0.          0.          0.        ]\n",
      " [ 0.          0.33333333  0.          0.          0.          0.          0.        ]\n",
      " [ 0.          0.          1.          0.          0.          0.          0.        ]\n",
      " [ 0.          0.          0.          0.33333333  0.          0.          0.        ]\n",
      " [ 0.          0.          0.          0.          1.          0.          0.        ]\n",
      " [ 0.          0.          0.          0.          0.          1.          0.        ]\n",
      " [ 0.          0.          0.          0.          0.          0.\n",
      "   0.33333333]]\n"
     ]
    }
   ],
   "source": [
    "print('--カテゴリごとの点数が対角にある行列の逆行列:CT--')\n",
    "for m in range(0, R_num_col):\n",
    "    sum = 0\n",
    "    for n in range(0, R_num_row):\n",
    "        sum += R[n,m]\n",
    "    C[m] = sum\n",
    "CI = mat(diag(C)).I\n",
    "print(CI)"
   ]
  },
  {
   "cell_type": "code",
   "execution_count": 5,
   "metadata": {
    "collapsed": false
   },
   "outputs": [
    {
     "name": "stdout",
     "output_type": "stream",
     "text": [
      "--サンプルごとの点数の平方根が対角にある行列の逆行列:SI--\n",
      "[[ 0.57735027  0.          0.          0.          0.        ]\n",
      " [ 0.          0.5         0.          0.          0.        ]\n",
      " [ 0.          0.          0.57735027  0.          0.        ]\n",
      " [ 0.          0.          0.          0.57735027  0.        ]\n",
      " [ 0.          0.          0.          0.          0.70710678]]\n"
     ]
    }
   ],
   "source": [
    "print('--サンプルごとの点数の平方根が対角にある行列の逆行列:SI--')\n",
    "for n in range(0, R_num_row):\n",
    "    sum = 0\n",
    "    for m in range(0, R_num_col):\n",
    "        sum += R[n,m]\n",
    "    S[n] = sqrt(sum)\n",
    "\n",
    "SI = mat(diag(S)).I\n",
    "print(SI)"
   ]
  },
  {
   "cell_type": "code",
   "execution_count": 6,
   "metadata": {
    "collapsed": false
   },
   "outputs": [
    {
     "name": "stdout",
     "output_type": "stream",
     "text": [
      "--データ行列Rの転置行列:RT--\n",
      "[[ 0.  1.  1.  1.  0.]\n",
      " [ 0.  1.  1.  0.  1.]\n",
      " [ 1.  0.  0.  0.  0.]\n",
      " [ 1.  1.  0.  1.  0.]\n",
      " [ 1.  0.  0.  0.  0.]\n",
      " [ 0.  1.  0.  0.  0.]\n",
      " [ 0.  0.  1.  1.  1.]]\n"
     ]
    }
   ],
   "source": [
    "print(\"--データ行列Rの転置行列:RT--\")\n",
    "RT = R.T\n",
    "print(RT)"
   ]
  },
  {
   "cell_type": "code",
   "execution_count": 7,
   "metadata": {
    "collapsed": false
   },
   "outputs": [
    {
     "name": "stdout",
     "output_type": "stream",
     "text": [
      "--SI*R*CI*RT*SI*v=r2*vを満たす固有値・固有ベクトルを求める--\n",
      "固有値:r2\n",
      "[ 1.          0.7460774   0.32168052  0.17281115  0.03720871]\n"
     ]
    }
   ],
   "source": [
    "print('--SI*R*CI*RT*SI*v=r2*vを満たす固有値・固有ベクトルを求める--')\n",
    "X = SI*R*CI*RT*SI\n",
    "v, r2, vh = linalg.svd(X)\n",
    "print('固有値:r2')\n",
    "print(r2)"
   ]
  },
  {
   "cell_type": "code",
   "execution_count": 8,
   "metadata": {
    "collapsed": false
   },
   "outputs": [
    {
     "name": "stdout",
     "output_type": "stream",
     "text": [
      "寄与率\n",
      "[ 0.7460774   0.32168052  0.17281115  0.03720871]\n",
      "[ 0.58388666  0.28835089  0.15967657  0.03480302]\n",
      "\n",
      "固有ベクトル:v\n",
      "[[-0.4472136   0.87246258 -0.1549608   0.1084679  -0.05505377]\n",
      " [-0.51639778 -0.15397441  0.7930122   0.2762141   0.06680293]\n",
      " [-0.4472136  -0.33287065 -0.29635376  0.01669324 -0.77530182]\n",
      " [-0.4472136  -0.11557079 -0.05067395 -0.82978354  0.30908706]\n",
      " [-0.36514837 -0.30156501 -0.50668076  0.47235696  0.54394735]]\n",
      "\n",
      "単相関係数:r\n",
      "[ 0.76412477  0.53698314  0.39959551  0.18655569]\n"
     ]
    }
   ],
   "source": [
    "print('寄与率')\n",
    "r2 = r2[1:]\n",
    "r3 = r2\n",
    "print(r3)\n",
    "for n in range(0, size(r3)):\n",
    "    r3[n] = r3[n] / r3.sum()\n",
    "print(r3)\n",
    "print()\n",
    "\n",
    "print('固有ベクトル:v')\n",
    "print(v)\n",
    "print()\n",
    "\n",
    "print('単相関係数:r')\n",
    "r = sqrt(r2)\n",
    "print(r)"
   ]
  },
  {
   "cell_type": "code",
   "execution_count": 9,
   "metadata": {
    "collapsed": false
   },
   "outputs": [
    {
     "name": "stdout",
     "output_type": "stream",
     "text": [
      "--サンプルスコア--\n",
      "[[ 1.95088563 -0.34650288  0.24254159 -0.12310398]\n",
      " [-0.29817016  1.53566153  0.5348863   0.12936331]\n",
      " [-0.74432141 -0.66266715  0.03732722 -1.73362758]\n",
      " [-0.25842415 -0.1133104  -1.85545241  0.69113969]\n",
      " [-0.82586979 -1.38760242  1.2936028   1.48966118]]\n",
      "\n",
      "--カテゴリスコア--\n",
      "[[-0.56749708  0.47157532 -1.07044821 -1.63154962]\n",
      " [-0.81503328 -0.31944394  1.55642084 -0.20477011]\n",
      " [ 2.55309828 -0.64527702  0.60696776 -0.65987793]\n",
      " [ 0.60823022  0.6678349  -0.89926313  1.24609624]\n",
      " [ 2.55309828 -0.64527702  0.60696776 -0.65987793]\n",
      " [-0.39021136  2.85979468  1.33856935  0.69343002]\n",
      " [-0.79769492 -1.34304649 -0.43754445  0.79899876]]\n"
     ]
    }
   ],
   "source": [
    "print('--サンプルスコア--')\n",
    "x1 = sqrt(R.sum())*v[:,1:]\n",
    "x1 = SI*x1\n",
    "print(x1)\n",
    "print()\n",
    "\n",
    "print('--カテゴリスコア--')\n",
    "y1 = CI*R.T*x1\n",
    "y2 = zeros((len(y1),size(y1[0])))\n",
    "for j in range(0,size(y1[0])):\n",
    "  y2[:,j:j+1] = y1[:,j]/r[j]\n",
    "y2 = mat(y2)\n",
    "print(y2)"
   ]
  },
  {
   "cell_type": "markdown",
   "metadata": {},
   "source": [
    "[matplot参考](http://kaisk.hatenadiary.com/entry/2015/02/15/215831)"
   ]
  },
  {
   "cell_type": "code",
   "execution_count": null,
   "metadata": {
    "collapsed": false
   },
   "outputs": [],
   "source": [
    "print('--散布図表示 (第一成分X軸・第二成分Y軸) --')\n",
    "s_score_x = zeros((1,1))\n",
    "s_score_y = zeros((1,1))\n",
    "c_score_x = zeros((1,1))\n",
    "c_score_y = zeros((1,1))\n",
    "\n",
    "s_score_x = array(x1[:,0])\n",
    "s_score_y = array(x1[:,1])\n",
    "c_score_x = array(y2[:,0])\n",
    "c_score_y = array(y2[:,1])\n",
    "\n",
    "fig1 = plt.figure()\n",
    "\n",
    "ax = fig1.add_subplot(111, autoscale_on=False, xlim=(-1,5), ylim=(-4,3))\n",
    "l, = plt.plot([], [], 'r-')\n",
    "\n",
    "fig1 = plt.scatter(s_score_x,s_score_y, marker='o', edgecolors = 'r', facecolor='None', s=40, alpha = 1, label = \"Sample Score\")\n",
    "fig1 = plt.scatter(c_score_x,c_score_y, marker='D', edgecolors = 'b', facecolor='None', s=40, alpha = 1, label = \"Category Score\")\n",
    "\n",
    "fp = FontProperties(fname=r'/home/fukami/.pyenv/versions/3.5.2/envs/pyenv3.5.2/lib/python3.5/site-packages/matplotlib/mpl-data/fonts/ttf/ipaexg.ttf ')\n",
    "\n",
    "for n in range(0, size(s_score_x)):\n",
    "    SN[n]\n",
    "    ax.annotate(\n",
    "            slist[n],\n",
    "            xy=(s_score_x[n]-0.05, s_score_y[n]),\n",
    "            xytext=(s_score_x[n]-0.2, s_score_y[n]),\n",
    "            arrowprops=dict(\n",
    "                arrowstyle='-',\n",
    "                facecolor='black',\n",
    "                ),\n",
    "            horizontalalignment='right', verticalalignment='center',\n",
    "            fontproperties=fp\n",
    "    )\n",
    "print(hlist)\n",
    "for n in range(0, size(c_score_x)):\n",
    "    ax.annotate(\n",
    "            hlist[n],\n",
    "            xy=(c_score_x[n]+0.05, c_score_y[n]),\n",
    "            xytext=(c_score_x[n]+0.2, c_score_y[n]),\n",
    "            arrowprops=dict(\n",
    "                arrowstyle='-',\n",
    "                facecolor='black',\n",
    "            ),\n",
    "        horizontalalignment='left', verticalalignment='center',\n",
    "        fontproperties=fp\n",
    "    )\n",
    "\n",
    "plt.xlim(-3,3)\n",
    "plt.ylim(-3,3)\n",
    "plt.axhline()\n",
    "plt.axvline()\n",
    "\n",
    "plt.grid(True)\n",
    "plt.legend(loc='best')\n",
    "plt.xlabel('成分1', fontproperties=fp)\n",
    "plt.ylabel('成分2', fontproperties=fp)\n",
    "plt.title('数量化三類', fontproperties=fp)\n",
    "plt.show()"
   ]
  },
  {
   "cell_type": "code",
   "execution_count": null,
   "metadata": {
    "collapsed": true
   },
   "outputs": [],
   "source": []
  }
 ],
 "metadata": {
  "kernelspec": {
   "display_name": "Python 3",
   "language": "python",
   "name": "python3"
  },
  "language_info": {
   "codemirror_mode": {
    "name": "ipython",
    "version": 3
   },
   "file_extension": ".py",
   "mimetype": "text/x-python",
   "name": "python",
   "nbconvert_exporter": "python",
   "pygments_lexer": "ipython3",
   "version": "3.5.2"
  }
 },
 "nbformat": 4,
 "nbformat_minor": 2
}
